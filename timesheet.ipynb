{
 "cells": [
  {
   "cell_type": "code",
   "execution_count": 1,
   "id": "e103328b-ff58-4fa6-a655-34effd7043d3",
   "metadata": {},
   "outputs": [],
   "source": [
    "import pandas as pd\n",
    "from sqlalchemy import create_engine"
   ]
  },
  {
   "cell_type": "code",
   "execution_count": 13,
   "id": "155fd1d8-a051-4514-bb44-edc9b8ef1d5c",
   "metadata": {},
   "outputs": [],
   "source": [
    "def extract_data(file_path):\n",
    "    excel_data = pd.read_excel(file_path)\n",
    "    \n",
    "    client_id = excel_data.iloc[1,2]\n",
    "    employee_id = excel_data.iloc[2, 2]  \n",
    "    total_working_days = excel_data.iloc[3, 2] \n",
    "    total_leaves = excel_data.iloc[4, 2]  \n",
    "    resource_name = excel_data.iloc[2, 4]\n",
    "    project_name = excel_data.iloc[3, 4]  \n",
    "   \n",
    "    data = {\n",
    "        'client_id' :[client_id],\n",
    "        'employee_id': [employee_id],\n",
    "        'total_working_days': [total_working_days],\n",
    "        'total_leaves': [total_leaves],\n",
    "        'resource_name': [resource_name],\n",
    "        'project_name': [project_name]\n",
    "    }\n",
    " \n",
    "    # Convert the dictionary to a DataFrame\n",
    "    df = pd.DataFrame(data)\n",
    "    return df\n",
    " "
   ]
  },
  {
   "cell_type": "code",
   "execution_count": 14,
   "id": "91bb4196-7557-4dd3-89f2-161c09f4ba30",
   "metadata": {},
   "outputs": [],
   "source": [
    "def data_to_db(df, db_name, table_name):\n",
    "    \n",
    "    engine = create_engine(f\"sqlite:///{db_name}.db\")\n",
    "    \n",
    "    df.to_sql(table_name, engine, if_exists='replace', index=False)\n",
    "    print(f\"Data successfully pushed to SQLite database '{db_name}.db' in table '{table_name}'\")"
   ]
  },
  {
   "cell_type": "code",
   "execution_count": 15,
   "id": "47446dba-4ad7-4920-997f-67a73df7187a",
   "metadata": {},
   "outputs": [],
   "source": [
    "def main(file_path, db_name, table_name):\n",
    "    \n",
    "    df = extract_data(file_path)\n",
    "    \n",
    "    data_to_db(df, db_name, table_name)"
   ]
  },
  {
   "cell_type": "code",
   "execution_count": 16,
   "id": "c53d43b1-2439-4d81-891f-e22629be997b",
   "metadata": {},
   "outputs": [
    {
     "name": "stdout",
     "output_type": "stream",
     "text": [
      "Data successfully pushed to SQLite database 'timesheet.db' in table 'client_data'\n"
     ]
    }
   ],
   "source": [
    "main('Book2.xlsx', 'timesheet', 'client_data')"
   ]
  },
  {
   "cell_type": "code",
   "execution_count": null,
   "id": "fa1bf7cb-1d0e-4537-9691-ef599d8d0750",
   "metadata": {},
   "outputs": [],
   "source": []
  }
 ],
 "metadata": {
  "kernelspec": {
   "display_name": "Python 3 (ipykernel)",
   "language": "python",
   "name": "python3"
  },
  "language_info": {
   "codemirror_mode": {
    "name": "ipython",
    "version": 3
   },
   "file_extension": ".py",
   "mimetype": "text/x-python",
   "name": "python",
   "nbconvert_exporter": "python",
   "pygments_lexer": "ipython3",
   "version": "3.12.6"
  }
 },
 "nbformat": 4,
 "nbformat_minor": 5
}
